{
 "cells": [
  {
   "cell_type": "code",
   "execution_count": 6,
   "metadata": {},
   "outputs": [],
   "source": [
    "import requests\n",
    "import smtplib, email\n",
    "import os\n",
    "import pygame\n",
    "from email.mime.multipart import MIMEMultipart\n",
    "from email.mime.text import MIMEText\n",
    "from email.mime.image import MIMEImage\n",
    "from email.header import Header\n",
    "import threading\n",
    "from bs4 import BeautifulSoup\n",
    "import time\n",
    "import datetime"
   ]
  },
  {
   "cell_type": "code",
   "execution_count": 7,
   "metadata": {},
   "outputs": [],
   "source": [
    "class EmailSender:\n",
    "    def __init__(self, addr, pwd):\n",
    "        self.smtp = addr.split(\"@\")[1]\n",
    "        self.addr = addr\n",
    "        self.pwd  = pwd\n",
    "\n",
    "    def send(self, subject, content):\n",
    "        msg = MIMEMultipart(\"mixed\")\n",
    "        msg[\"Subject\"] = subject\n",
    "        msg[\"From\"]    = self.addr\n",
    "        msg[\"To\"]      = self.addr\n",
    "        text = MIMEText(content, \"html\", \"utf-8\")\n",
    "        msg.attach(text)\n",
    "        smtp = smtplib.SMTP()\n",
    "        smtp.connect(self.smtp)\n",
    "        smtp.login(self.addr, self.pwd)\n",
    "        smtp.sendmail(self.addr, self.addr, msg.as_string())\n",
    "        smtp.quit()\n",
    "        \n",
    "class DesktopToaster:\n",
    "    def __init__(self):\n",
    "        pygame.init()\n",
    "        pygame.mixer.init()\n",
    "        self.sounda = pygame.mixer.Sound(\"chirp.wav\")\n",
    "    \n",
    "    def on_destroy(self, hwnd, msg, wparam, lparam):\n",
    "        pass\n",
    "\n",
    "    def show_toast(self, title, text):\n",
    "        os.system(\"\"\"\n",
    "                osascript -e 'display notification \"{}\" with title \"{}\"'\n",
    "                \"\"\".format(text, title))\n",
    "\n",
    "    def toast(self, subject, content):\n",
    "        self.show_toast(subject, content)\n",
    "        self.sounda.play()"
   ]
  },
  {
   "cell_type": "code",
   "execution_count": 8,
   "metadata": {},
   "outputs": [],
   "source": [
    "config = {\n",
    "    \"ustc_id\": \"SA20011152\",\n",
    "    \"ustc_pwd\": \"NTBNUY\",\n",
    "    \"email_addr\": \"yjw1029@mail.ustc.edu.cn\",\n",
    "    \"email_pwd\": \"@yjw56199801029\",\n",
    "}"
   ]
  },
  {
   "cell_type": "code",
   "execution_count": 9,
   "metadata": {},
   "outputs": [],
   "source": [
    "class EPCBot(threading.Thread):\n",
    "\n",
    "    # EPC网站相关url\n",
    "    URL_ROOT     = \"http://epc.ustc.edu.cn/\"\n",
    "    URL_LOGIN    = URL_ROOT + \"n_left.asp\"\n",
    "    URL_BOOKED   = URL_ROOT + \"record_book.asp\"\n",
    "    URL_BOOKABLE = URL_ROOT + \"m_practice.asp?second_id=2002\"\n",
    "    \n",
    "    def __init__(self, config:dict, ui=None):\n",
    "\n",
    "        # 设置监听\n",
    "        super(EPCBot, self).__init__(daemon=True)\n",
    "        self.is_stopped = threading.Event()\n",
    "        \n",
    "        # 初始化相关参数\n",
    "        self.ustc_id     = config[\"ustc_id\"]\n",
    "        self.ustc_pwd    = config[\"ustc_pwd\"]\n",
    "        self.email_addr  = config[\"email_addr\"]\n",
    "        self.email_pwd   = config[\"email_pwd\"]\n",
    "\n",
    "        # 初始化邮件通知类\n",
    "        self.email_sender = EmailSender(self.email_addr, self.email_pwd)\n",
    "\n",
    "        # 开启session会话\n",
    "        self.session = requests.Session()\n",
    "        self.session.headers.update({\n",
    "            \"User-Agent\": \"Mozilla/5.0 (Windows NT 10.0; Win64; x64) \\\n",
    "                AppleWebKit/537.36 (KHTML, like Gecko) Chrome/77.0.3865.75 Safari/537.36\"\n",
    "        })\n",
    "\n",
    "    def login(self):\n",
    "        data = {\n",
    "            \"submit_type\": \"user_login\",\n",
    "            \"name\": self.ustc_id,\n",
    "            \"pass\": self.ustc_pwd,\n",
    "            \"user_type\": \"2\",\n",
    "            \"Submit\": \"LOG IN\"\n",
    "        }\n",
    "        resp = self.session.post(url=self.URL_LOGIN, data=data)\n",
    "        if resp.status_code is 200 and not \"登录失败\" in resp.text:\n",
    "            self.cookie = self.session.cookies.get_dict()\n",
    "            print(\"Sucessfully Login\")\n",
    "            return True\n",
    "        print(\"Fair to Login\")\n",
    "        return False\n",
    "\n",
    "    def get_bookable_courses(self):\n",
    "        bookable_epc = []\n",
    "        data = {\"querytype\": \"all\"}\n",
    "        resp = self.session.post(url=self.URL_BOOKABLE, data=data)\n",
    "        html = BeautifulSoup(resp.text, \"html.parser\")\n",
    "        if \"登录后可以查看详细信息\" in html.text:\n",
    "            return \"login\"\n",
    "        table = html.find_all(\"table\")[4]\n",
    "        tr = table.find_all(\"tr\")\n",
    "        form = html.find_all(\"form\")\n",
    "        for i in range(1, len(tr)):\n",
    "            td = tr[i].find_all(\"td\")\n",
    "            date = td[5].get_text(separator=\" \")\n",
    "            date_, time_ = date.split(\" \")\n",
    "            tsp =  time.mktime(datetime.datetime.strptime(date_, \"%Y/%m/%d\").timetuple())\n",
    "            bookable_epc.append({\n",
    "                \"unit\": td[0].get_text(separator=\" \"),   # 预约单元\n",
    "                \"prof\": td[3].get_text(separator=\" \"),   # 教师\n",
    "                \"hour\": td[4].get_text(separator=\" \"),   # 学时\n",
    "                \"week\": td[1].get_text(separator=\" \"),   # 教学周\n",
    "                \"wday\": td[2].get_text(separator=\" \"),   # 星期\n",
    "                \"date\": date,   # 上课时间\n",
    "                \"room\": td[6].get_text(separator=\" \"),   # 上课教室\n",
    "                \"_url\": form[i-1].get(\"action\"),         # 表单链接\n",
    "                \"_new\": True,                             # 是否为可预约课程\n",
    "                \"tsp\": tsp\n",
    "            })\n",
    "        \n",
    "        bookable_epc.sort(key=lambda x: x['tsp'])\n",
    "        return bookable_epc\n",
    "    \n",
    "    def get_booked_epc(self):\n",
    "        booked_epc = list()\n",
    "        \n",
    "        data = {\"querytype\": \"new\"}\n",
    "        resp = self.session.post(url=self.URL_BOOKED, data=data)\n",
    "        if resp.status_code is not 200: \n",
    "            self.print_log(\"Failed to fetch booked records.\")\n",
    "            return booked_epc, False\n",
    "\n",
    "        html = BeautifulSoup(resp.text, \"html.parser\")\n",
    "        table = html.find_all(\"table\")[2]\n",
    "        tr = table.find_all(\"tr\")\n",
    "        form = html.find_all(\"form\")\n",
    "\n",
    "        for i in range(1, len(tr)):\n",
    "            td = tr[i].find_all(\"td\")\n",
    "            date = td[7].get_text(separator=\" \")\n",
    "            date_, time_ = date.split(\" \")\n",
    "            tsp =  time.mktime(datetime.datetime.strptime(date_, \"%Y/%m/%d\").timetuple())\n",
    "            booked_epc.append({\n",
    "                \"unit\": td[1].get_text(separator=\" \"),\n",
    "                \"prof\": td[2].get_text(separator=\" \"),\n",
    "                \"hour\": td[3].get_text(separator=\" \"),\n",
    "                \"week\": td[5].get_text(separator=\" \"),\n",
    "                \"wday\": td[6].get_text(separator=\" \"),\n",
    "                \"date\": date,\n",
    "                \"room\": td[8].get_text(separator=\" \"),\n",
    "                \"_url\": form[i].get(\"action\"),\n",
    "                \"_new\": False,\n",
    "                \"tsp\": tsp\n",
    "            })\n",
    "        booked_epc.sort(key=lambda x: x['tsp'])\n",
    "        return booked_epc, True\n",
    "    \n",
    "    def submit_epc(self, epc_url, cmd):\n",
    "        if cmd in ['cancel', 'submit']:\n",
    "            return \"Invalid CMD\", False\n",
    "        data = {\"submit_type\": \"book_%s\" % cmd}\n",
    "        resp = self.session.post(url=self.URL_ROOT+epc_url, data=data)\n",
    "        success = not \"操作失败\" in resp.text\n",
    "        if success:\n",
    "            return \"Success\", True\n",
    "        else:\n",
    "            return \"Fail\", False"
   ]
  },
  {
   "cell_type": "code",
   "execution_count": 11,
   "metadata": {},
   "outputs": [
    {
     "name": "stdout",
     "output_type": "stream",
     "text": [
      "Sucessfully Login\n",
      "无可预约课程\n",
      "无可预约课程\n",
      "无可预约课程\n",
      "无可预约课程\n",
      "无可预约课程\n",
      "无可预约课程\n",
      "无可预约课程\n"
     ]
    },
    {
     "ename": "KeyboardInterrupt",
     "evalue": "",
     "output_type": "error",
     "traceback": [
      "\u001b[0;31m---------------------------------------------------------------------------\u001b[0m",
      "\u001b[0;31mKeyboardInterrupt\u001b[0m                         Traceback (most recent call last)",
      "\u001b[0;32m<ipython-input-11-f346dbaf55e4>\u001b[0m in \u001b[0;36m<module>\u001b[0;34m\u001b[0m\n\u001b[1;32m     19\u001b[0m             \u001b[0mdesktop_toaster\u001b[0m\u001b[0;34m.\u001b[0m\u001b[0mtoast\u001b[0m\u001b[0;34m(\u001b[0m\u001b[0;34m\"EPC Bot\"\u001b[0m\u001b[0;34m,\u001b[0m \u001b[0mcontent\u001b[0m\u001b[0;34m)\u001b[0m\u001b[0;34m\u001b[0m\u001b[0;34m\u001b[0m\u001b[0m\n\u001b[1;32m     20\u001b[0m             \u001b[0mhas_course\u001b[0m \u001b[0;34m=\u001b[0m \u001b[0;32mFalse\u001b[0m\u001b[0;34m\u001b[0m\u001b[0;34m\u001b[0m\u001b[0m\n\u001b[0;32m---> 21\u001b[0;31m         \u001b[0mtime\u001b[0m\u001b[0;34m.\u001b[0m\u001b[0msleep\u001b[0m\u001b[0;34m(\u001b[0m\u001b[0;36m5\u001b[0m \u001b[0;34m*\u001b[0m \u001b[0;36m60\u001b[0m\u001b[0;34m)\u001b[0m\u001b[0;34m\u001b[0m\u001b[0;34m\u001b[0m\u001b[0m\n\u001b[0m\u001b[1;32m     22\u001b[0m         \u001b[0;32mcontinue\u001b[0m\u001b[0;34m\u001b[0m\u001b[0;34m\u001b[0m\u001b[0m\n\u001b[1;32m     23\u001b[0m \u001b[0;34m\u001b[0m\u001b[0m\n",
      "\u001b[0;31mKeyboardInterrupt\u001b[0m: "
     ]
    }
   ],
   "source": [
    "epc_bot = EPCBot(config)\n",
    "epc_bot.login()\n",
    "booked_epc = epc_bot.get_booked_epc()\n",
    "desktop_toaster = DesktopToaster()\n",
    "min_booked_epc = booked_epc[0][-1]\n",
    "min_time = min_booked_epc['tsp']\n",
    "has_course = True\n",
    "while True:\n",
    "    bookable_course = epc_bot.get_bookable_courses()\n",
    "    \n",
    "    if bookable_course == \"login\":\n",
    "        epc_bot.login()\n",
    "        continue\n",
    "        \n",
    "    if len(bookable_course) == 0:\n",
    "        content = f\"无可预约课程\"\n",
    "        print(content)\n",
    "        if has_course:\n",
    "            desktop_toaster.toast(\"EPC Bot\", content)\n",
    "            has_course = False\n",
    "        time.sleep(5 * 60)\n",
    "        continue\n",
    "        \n",
    "    min_bookable = bookable_course[0]\n",
    "    if min_bookable['tsp'] <= min_time:\n",
    "        content = f\"目前可选最早课程为{min_bookable['week']} {min_bookable['wday']} {min_bookable['date']}\"\n",
    "        print(content)\n",
    "        desktop_toaster.toast(\"EPC Bot\", content)\n",
    "        rslt = input(f\"是否要抢课? (y/n)\")\n",
    "        if rslt == \"y\":\n",
    "            submit_flag = False\n",
    "            while not submit_flag:\n",
    "                if len(booked_epc) == 2:\n",
    "                    rsp_cancel = epc_bot.submit_epc(min_booked_epc[\"_url\"], \"cancel\")\n",
    "                if rsp_cancel[-1]:\n",
    "                    rsp_submit = epc_bot.submit_epc(min_bookable[\"_url\"], \"submit\")\n",
    "                submit_flag = rsp_submit[-1]\n",
    "            content = f\"成功抢课{min_bookable['week']} {min_bookable['wday']} {min_bookable['date']}\"\n",
    "            print(content)\n",
    "            desktop_toaster.toast(\"EPC Bot\", content)\n",
    "        time.sleep(5 * 60)\n",
    "    elif not has_course and min_bookabel['tsp'] > min_time:\n",
    "        content = f\"目前可选最早课程为{min_bookabel['week']} {min_bookabel['wday']} {min_bookabel['date']}\"\n",
    "        print(content)\n",
    "        desktop_toaster.toast(\"EPC Bot\", content)\n",
    "        time.sleep(2 * 60)\n",
    "    else:\n",
    "        time.sleep(2 * 60)\n",
    "    has_course = True"
   ]
  },
  {
   "cell_type": "code",
   "execution_count": 54,
   "metadata": {},
   "outputs": [
    {
     "data": {
      "text/plain": [
       "1"
      ]
     },
     "execution_count": 54,
     "metadata": {},
     "output_type": "execute_result"
    }
   ],
   "source": [
    "# 取消课程\n",
    "# data = {\"second_id\":\"2002\", \"info_id\":\"2295\", \"week\":\"15\", \"week_day\":\"4\", \"book_sum_id\":\"113992\"}\n",
    "# epc_bot.session.post(url=\"http://epc.ustc.edu.cn/record_book.asp?\", data=data)"
   ]
  },
  {
   "cell_type": "code",
   "execution_count": 20,
   "metadata": {},
   "outputs": [
    {
     "data": {
      "text/plain": [
       "([{'unit': 'Marriage Customs',\n",
       "   'prof': 'Edmund',\n",
       "   'hour': '2',\n",
       "   'week': '15',\n",
       "   'wday': '周三',\n",
       "   'date': '2021/6/16 14:00-15:30',\n",
       "   'room': '-',\n",
       "   '_url': 'record_book.asp?second_id=2002&info_id=1306&week=15&week_day=3&book_sum_id=114595',\n",
       "   '_new': False,\n",
       "   'tsp': 1623772800.0},\n",
       "  {'unit': 'Chinese Cuisine',\n",
       "   'prof': 'Jamie',\n",
       "   'hour': '2',\n",
       "   'week': '15',\n",
       "   'wday': '周四',\n",
       "   'date': '2021/6/17 14:00-15:30',\n",
       "   'room': '-',\n",
       "   '_url': 'record_book.asp?second_id=2002&info_id=2295&week=15&week_day=4&book_sum_id=113992',\n",
       "   '_new': False,\n",
       "   'tsp': 1623859200.0}],\n",
       " True)"
      ]
     },
     "execution_count": 20,
     "metadata": {},
     "output_type": "execute_result"
    }
   ],
   "source": [
    "epc_bot.get_booked_epc()"
   ]
  },
  {
   "cell_type": "code",
   "execution_count": 21,
   "metadata": {},
   "outputs": [
    {
     "name": "stdout",
     "output_type": "stream",
     "text": [
      "是否要抢课?yes\n"
     ]
    },
    {
     "data": {
      "text/plain": [
       "'yes'"
      ]
     },
     "execution_count": 21,
     "metadata": {},
     "output_type": "execute_result"
    }
   ],
   "source": [
    "input(f\"是否要抢课?\")"
   ]
  },
  {
   "cell_type": "code",
   "execution_count": null,
   "metadata": {},
   "outputs": [],
   "source": []
  }
 ],
 "metadata": {
  "kernelspec": {
   "display_name": "Python 3",
   "language": "python",
   "name": "python3"
  },
  "language_info": {
   "codemirror_mode": {
    "name": "ipython",
    "version": 3
   },
   "file_extension": ".py",
   "mimetype": "text/x-python",
   "name": "python",
   "nbconvert_exporter": "python",
   "pygments_lexer": "ipython3",
   "version": "3.6.13"
  }
 },
 "nbformat": 4,
 "nbformat_minor": 4
}
